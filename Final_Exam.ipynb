{
 "cells": [
  {
   "cell_type": "code",
   "execution_count": 1,
   "metadata": {},
   "outputs": [],
   "source": [
    "# Import the necessary libraries\n",
    "import pandas as pd\n",
    "import numpy as np"
   ]
  },
  {
   "cell_type": "code",
   "execution_count": 12,
   "metadata": {},
   "outputs": [],
   "source": [
    "# Read the flights.csv file into a DataFrame called flights\n",
    "flights = pd.read_csv('flightsdata.csv')"
   ]
  },
  {
   "cell_type": "code",
   "execution_count": 13,
   "metadata": {},
   "outputs": [
    {
     "data": {
      "text/html": [
       "<div>\n",
       "<style scoped>\n",
       "    .dataframe tbody tr th:only-of-type {\n",
       "        vertical-align: middle;\n",
       "    }\n",
       "\n",
       "    .dataframe tbody tr th {\n",
       "        vertical-align: top;\n",
       "    }\n",
       "\n",
       "    .dataframe thead th {\n",
       "        text-align: right;\n",
       "    }\n",
       "</style>\n",
       "<table border=\"1\" class=\"dataframe\">\n",
       "  <thead>\n",
       "    <tr style=\"text-align: right;\">\n",
       "      <th></th>\n",
       "      <th>flight_id</th>\n",
       "      <th>airline_name</th>\n",
       "      <th>origin_airport</th>\n",
       "      <th>year</th>\n",
       "      <th>month</th>\n",
       "      <th>day_of_month</th>\n",
       "      <th>time_in_air</th>\n",
       "      <th>time_on_flight</th>\n",
       "      <th>departure_delay</th>\n",
       "      <th>arrival_delay</th>\n",
       "      <th>arrival_delay_caused_by_carrier</th>\n",
       "      <th>arrival_delay_caused_by_others</th>\n",
       "      <th>arrival_delay_category_carrier</th>\n",
       "      <th>arrival_delay_category_weather</th>\n",
       "      <th>arrival_delay_category_nas</th>\n",
       "      <th>arrival_delay_category_security</th>\n",
       "      <th>arrival_delay_category_aircraft</th>\n",
       "    </tr>\n",
       "  </thead>\n",
       "  <tbody>\n",
       "    <tr>\n",
       "      <th>0</th>\n",
       "      <td>6543764</td>\n",
       "      <td>Southwest Airlines Co.</td>\n",
       "      <td>Bob Hope Airport</td>\n",
       "      <td>2021</td>\n",
       "      <td>1</td>\n",
       "      <td>1</td>\n",
       "      <td>45.0</td>\n",
       "      <td>64.0</td>\n",
       "      <td>11</td>\n",
       "      <td>10</td>\n",
       "      <td>0</td>\n",
       "      <td>0</td>\n",
       "      <td>0</td>\n",
       "      <td>0</td>\n",
       "      <td>0</td>\n",
       "      <td>0</td>\n",
       "      <td>0</td>\n",
       "    </tr>\n",
       "    <tr>\n",
       "      <th>1</th>\n",
       "      <td>6544163</td>\n",
       "      <td>Southwest Airlines Co.</td>\n",
       "      <td>Bob Hope Airport</td>\n",
       "      <td>2021</td>\n",
       "      <td>1</td>\n",
       "      <td>1</td>\n",
       "      <td>66.0</td>\n",
       "      <td>79.0</td>\n",
       "      <td>7</td>\n",
       "      <td>6</td>\n",
       "      <td>0</td>\n",
       "      <td>0</td>\n",
       "      <td>0</td>\n",
       "      <td>0</td>\n",
       "      <td>0</td>\n",
       "      <td>0</td>\n",
       "      <td>0</td>\n",
       "    </tr>\n",
       "    <tr>\n",
       "      <th>2</th>\n",
       "      <td>6544164</td>\n",
       "      <td>Southwest Airlines Co.</td>\n",
       "      <td>Bob Hope Airport</td>\n",
       "      <td>2021</td>\n",
       "      <td>1</td>\n",
       "      <td>1</td>\n",
       "      <td>46.0</td>\n",
       "      <td>60.0</td>\n",
       "      <td>12</td>\n",
       "      <td>7</td>\n",
       "      <td>0</td>\n",
       "      <td>0</td>\n",
       "      <td>0</td>\n",
       "      <td>0</td>\n",
       "      <td>0</td>\n",
       "      <td>0</td>\n",
       "      <td>0</td>\n",
       "    </tr>\n",
       "    <tr>\n",
       "      <th>3</th>\n",
       "      <td>6544561</td>\n",
       "      <td>Southwest Airlines Co.</td>\n",
       "      <td>Bob Hope Airport</td>\n",
       "      <td>2021</td>\n",
       "      <td>1</td>\n",
       "      <td>1</td>\n",
       "      <td>48.0</td>\n",
       "      <td>61.0</td>\n",
       "      <td>9</td>\n",
       "      <td>0</td>\n",
       "      <td>0</td>\n",
       "      <td>0</td>\n",
       "      <td>0</td>\n",
       "      <td>0</td>\n",
       "      <td>0</td>\n",
       "      <td>0</td>\n",
       "      <td>0</td>\n",
       "    </tr>\n",
       "    <tr>\n",
       "      <th>4</th>\n",
       "      <td>6545161</td>\n",
       "      <td>Southwest Airlines Co.</td>\n",
       "      <td>Bob Hope Airport</td>\n",
       "      <td>2021</td>\n",
       "      <td>1</td>\n",
       "      <td>1</td>\n",
       "      <td>46.0</td>\n",
       "      <td>59.0</td>\n",
       "      <td>82</td>\n",
       "      <td>76</td>\n",
       "      <td>76</td>\n",
       "      <td>0</td>\n",
       "      <td>3</td>\n",
       "      <td>0</td>\n",
       "      <td>0</td>\n",
       "      <td>0</td>\n",
       "      <td>73</td>\n",
       "    </tr>\n",
       "  </tbody>\n",
       "</table>\n",
       "</div>"
      ],
      "text/plain": [
       "   flight_id            airline_name    origin_airport  year  month  \\\n",
       "0    6543764  Southwest Airlines Co.  Bob Hope Airport  2021      1   \n",
       "1    6544163  Southwest Airlines Co.  Bob Hope Airport  2021      1   \n",
       "2    6544164  Southwest Airlines Co.  Bob Hope Airport  2021      1   \n",
       "3    6544561  Southwest Airlines Co.  Bob Hope Airport  2021      1   \n",
       "4    6545161  Southwest Airlines Co.  Bob Hope Airport  2021      1   \n",
       "\n",
       "   day_of_month  time_in_air  time_on_flight  departure_delay  arrival_delay  \\\n",
       "0             1         45.0            64.0               11             10   \n",
       "1             1         66.0            79.0                7              6   \n",
       "2             1         46.0            60.0               12              7   \n",
       "3             1         48.0            61.0                9              0   \n",
       "4             1         46.0            59.0               82             76   \n",
       "\n",
       "   arrival_delay_caused_by_carrier  arrival_delay_caused_by_others  \\\n",
       "0                                0                               0   \n",
       "1                                0                               0   \n",
       "2                                0                               0   \n",
       "3                                0                               0   \n",
       "4                               76                               0   \n",
       "\n",
       "   arrival_delay_category_carrier  arrival_delay_category_weather  \\\n",
       "0                               0                               0   \n",
       "1                               0                               0   \n",
       "2                               0                               0   \n",
       "3                               0                               0   \n",
       "4                               3                               0   \n",
       "\n",
       "   arrival_delay_category_nas  arrival_delay_category_security  \\\n",
       "0                           0                                0   \n",
       "1                           0                                0   \n",
       "2                           0                                0   \n",
       "3                           0                                0   \n",
       "4                           0                                0   \n",
       "\n",
       "   arrival_delay_category_aircraft  \n",
       "0                                0  \n",
       "1                                0  \n",
       "2                                0  \n",
       "3                                0  \n",
       "4                               73  "
      ]
     },
     "execution_count": 13,
     "metadata": {},
     "output_type": "execute_result"
    }
   ],
   "source": [
    "flights.head()"
   ]
  },
  {
   "cell_type": "code",
   "execution_count": 14,
   "metadata": {},
   "outputs": [
    {
     "data": {
      "text/plain": [
       "(568356, 17)"
      ]
     },
     "execution_count": 14,
     "metadata": {},
     "output_type": "execute_result"
    }
   ],
   "source": [
    "flights.shape"
   ]
  },
  {
   "cell_type": "code",
   "execution_count": 15,
   "metadata": {},
   "outputs": [
    {
     "data": {
      "text/plain": [
       "array(['Southwest Airlines Co.', 'Northwest Airlines Inc.',\n",
       "       'Delta Air Lines Inc.', 'Aloha Airlines Inc.', 'PSA Airlines Inc.',\n",
       "       'Alaska Airlines Inc.', 'SkyWest Airlines Inc.',\n",
       "       'ExpressJet Airlines Inc. (1)', 'Mesa Airlines Inc.',\n",
       "       'ExpressJet Airlines Inc.', 'JetBlue Airways',\n",
       "       'Frontier Airlines Inc.', 'AirTran Airways Corporation',\n",
       "       'Endeavor Air Inc.', 'United Air Lines Inc.', 'US Airways Inc.',\n",
       "       'American Airlines Inc.', 'Envoy Air',\n",
       "       'Continental Air Lines Inc.', 'Hawaiian Airlines Inc.'],\n",
       "      dtype=object)"
      ]
     },
     "execution_count": 15,
     "metadata": {},
     "output_type": "execute_result"
    }
   ],
   "source": [
    "# Check all values from Airline column\n",
    "flights['airline_name'].unique()"
   ]
  },
  {
   "cell_type": "code",
   "execution_count": 16,
   "metadata": {},
   "outputs": [
    {
     "data": {
      "text/html": [
       "<div>\n",
       "<style scoped>\n",
       "    .dataframe tbody tr th:only-of-type {\n",
       "        vertical-align: middle;\n",
       "    }\n",
       "\n",
       "    .dataframe tbody tr th {\n",
       "        vertical-align: top;\n",
       "    }\n",
       "\n",
       "    .dataframe thead th {\n",
       "        text-align: right;\n",
       "    }\n",
       "</style>\n",
       "<table border=\"1\" class=\"dataframe\">\n",
       "  <thead>\n",
       "    <tr style=\"text-align: right;\">\n",
       "      <th></th>\n",
       "      <th>flight_id</th>\n",
       "      <th>year</th>\n",
       "      <th>month</th>\n",
       "      <th>day_of_month</th>\n",
       "      <th>time_in_air</th>\n",
       "      <th>time_on_flight</th>\n",
       "      <th>departure_delay</th>\n",
       "      <th>arrival_delay</th>\n",
       "      <th>arrival_delay_caused_by_carrier</th>\n",
       "      <th>arrival_delay_caused_by_others</th>\n",
       "      <th>arrival_delay_category_carrier</th>\n",
       "      <th>arrival_delay_category_weather</th>\n",
       "      <th>arrival_delay_category_nas</th>\n",
       "      <th>arrival_delay_category_security</th>\n",
       "      <th>arrival_delay_category_aircraft</th>\n",
       "    </tr>\n",
       "  </thead>\n",
       "  <tbody>\n",
       "    <tr>\n",
       "      <th>count</th>\n",
       "      <td>5.683560e+05</td>\n",
       "      <td>568356.0</td>\n",
       "      <td>568356.000000</td>\n",
       "      <td>568356.000000</td>\n",
       "      <td>566133.000000</td>\n",
       "      <td>566133.000000</td>\n",
       "      <td>568356.000000</td>\n",
       "      <td>568356.000000</td>\n",
       "      <td>568356.000000</td>\n",
       "      <td>568356.000000</td>\n",
       "      <td>568356.000000</td>\n",
       "      <td>568356.000000</td>\n",
       "      <td>568356.000000</td>\n",
       "      <td>568356.000000</td>\n",
       "      <td>568356.000000</td>\n",
       "    </tr>\n",
       "    <tr>\n",
       "      <th>mean</th>\n",
       "      <td>6.825414e+06</td>\n",
       "      <td>2021.0</td>\n",
       "      <td>2.029747</td>\n",
       "      <td>15.551902</td>\n",
       "      <td>106.870930</td>\n",
       "      <td>131.782528</td>\n",
       "      <td>43.763613</td>\n",
       "      <td>43.031452</td>\n",
       "      <td>29.782383</td>\n",
       "      <td>12.030799</td>\n",
       "      <td>12.535363</td>\n",
       "      <td>2.517873</td>\n",
       "      <td>9.446947</td>\n",
       "      <td>0.065980</td>\n",
       "      <td>17.247019</td>\n",
       "    </tr>\n",
       "    <tr>\n",
       "      <th>std</th>\n",
       "      <td>1.640704e+05</td>\n",
       "      <td>0.0</td>\n",
       "      <td>0.817789</td>\n",
       "      <td>8.942077</td>\n",
       "      <td>67.007013</td>\n",
       "      <td>69.941701</td>\n",
       "      <td>53.040903</td>\n",
       "      <td>56.389791</td>\n",
       "      <td>48.813624</td>\n",
       "      <td>33.421423</td>\n",
       "      <td>36.021072</td>\n",
       "      <td>17.906938</td>\n",
       "      <td>27.782767</td>\n",
       "      <td>1.542014</td>\n",
       "      <td>36.286294</td>\n",
       "    </tr>\n",
       "    <tr>\n",
       "      <th>min</th>\n",
       "      <td>6.541236e+06</td>\n",
       "      <td>2021.0</td>\n",
       "      <td>1.000000</td>\n",
       "      <td>1.000000</td>\n",
       "      <td>0.000000</td>\n",
       "      <td>15.000000</td>\n",
       "      <td>6.000000</td>\n",
       "      <td>-69.000000</td>\n",
       "      <td>0.000000</td>\n",
       "      <td>0.000000</td>\n",
       "      <td>0.000000</td>\n",
       "      <td>0.000000</td>\n",
       "      <td>0.000000</td>\n",
       "      <td>0.000000</td>\n",
       "      <td>0.000000</td>\n",
       "    </tr>\n",
       "    <tr>\n",
       "      <th>25%</th>\n",
       "      <td>6.683325e+06</td>\n",
       "      <td>2021.0</td>\n",
       "      <td>1.000000</td>\n",
       "      <td>7.000000</td>\n",
       "      <td>58.000000</td>\n",
       "      <td>80.000000</td>\n",
       "      <td>13.000000</td>\n",
       "      <td>10.000000</td>\n",
       "      <td>0.000000</td>\n",
       "      <td>0.000000</td>\n",
       "      <td>0.000000</td>\n",
       "      <td>0.000000</td>\n",
       "      <td>0.000000</td>\n",
       "      <td>0.000000</td>\n",
       "      <td>0.000000</td>\n",
       "    </tr>\n",
       "    <tr>\n",
       "      <th>50%</th>\n",
       "      <td>6.825414e+06</td>\n",
       "      <td>2021.0</td>\n",
       "      <td>2.000000</td>\n",
       "      <td>16.000000</td>\n",
       "      <td>89.000000</td>\n",
       "      <td>115.000000</td>\n",
       "      <td>25.000000</td>\n",
       "      <td>26.000000</td>\n",
       "      <td>15.000000</td>\n",
       "      <td>0.000000</td>\n",
       "      <td>0.000000</td>\n",
       "      <td>0.000000</td>\n",
       "      <td>0.000000</td>\n",
       "      <td>0.000000</td>\n",
       "      <td>0.000000</td>\n",
       "    </tr>\n",
       "    <tr>\n",
       "      <th>75%</th>\n",
       "      <td>6.967502e+06</td>\n",
       "      <td>2021.0</td>\n",
       "      <td>3.000000</td>\n",
       "      <td>23.000000</td>\n",
       "      <td>136.000000</td>\n",
       "      <td>163.000000</td>\n",
       "      <td>54.000000</td>\n",
       "      <td>57.000000</td>\n",
       "      <td>39.000000</td>\n",
       "      <td>8.000000</td>\n",
       "      <td>10.000000</td>\n",
       "      <td>0.000000</td>\n",
       "      <td>6.000000</td>\n",
       "      <td>0.000000</td>\n",
       "      <td>20.000000</td>\n",
       "    </tr>\n",
       "    <tr>\n",
       "      <th>max</th>\n",
       "      <td>7.109591e+06</td>\n",
       "      <td>2021.0</td>\n",
       "      <td>3.000000</td>\n",
       "      <td>31.000000</td>\n",
       "      <td>664.000000</td>\n",
       "      <td>727.000000</td>\n",
       "      <td>2457.000000</td>\n",
       "      <td>2461.000000</td>\n",
       "      <td>2457.000000</td>\n",
       "      <td>1357.000000</td>\n",
       "      <td>1490.000000</td>\n",
       "      <td>1148.000000</td>\n",
       "      <td>1357.000000</td>\n",
       "      <td>149.000000</td>\n",
       "      <td>1254.000000</td>\n",
       "    </tr>\n",
       "  </tbody>\n",
       "</table>\n",
       "</div>"
      ],
      "text/plain": [
       "          flight_id      year          month   day_of_month    time_in_air  \\\n",
       "count  5.683560e+05  568356.0  568356.000000  568356.000000  566133.000000   \n",
       "mean   6.825414e+06    2021.0       2.029747      15.551902     106.870930   \n",
       "std    1.640704e+05       0.0       0.817789       8.942077      67.007013   \n",
       "min    6.541236e+06    2021.0       1.000000       1.000000       0.000000   \n",
       "25%    6.683325e+06    2021.0       1.000000       7.000000      58.000000   \n",
       "50%    6.825414e+06    2021.0       2.000000      16.000000      89.000000   \n",
       "75%    6.967502e+06    2021.0       3.000000      23.000000     136.000000   \n",
       "max    7.109591e+06    2021.0       3.000000      31.000000     664.000000   \n",
       "\n",
       "       time_on_flight  departure_delay  arrival_delay  \\\n",
       "count   566133.000000    568356.000000  568356.000000   \n",
       "mean       131.782528        43.763613      43.031452   \n",
       "std         69.941701        53.040903      56.389791   \n",
       "min         15.000000         6.000000     -69.000000   \n",
       "25%         80.000000        13.000000      10.000000   \n",
       "50%        115.000000        25.000000      26.000000   \n",
       "75%        163.000000        54.000000      57.000000   \n",
       "max        727.000000      2457.000000    2461.000000   \n",
       "\n",
       "       arrival_delay_caused_by_carrier  arrival_delay_caused_by_others  \\\n",
       "count                    568356.000000                   568356.000000   \n",
       "mean                         29.782383                       12.030799   \n",
       "std                          48.813624                       33.421423   \n",
       "min                           0.000000                        0.000000   \n",
       "25%                           0.000000                        0.000000   \n",
       "50%                          15.000000                        0.000000   \n",
       "75%                          39.000000                        8.000000   \n",
       "max                        2457.000000                     1357.000000   \n",
       "\n",
       "       arrival_delay_category_carrier  arrival_delay_category_weather  \\\n",
       "count                   568356.000000                   568356.000000   \n",
       "mean                        12.535363                        2.517873   \n",
       "std                         36.021072                       17.906938   \n",
       "min                          0.000000                        0.000000   \n",
       "25%                          0.000000                        0.000000   \n",
       "50%                          0.000000                        0.000000   \n",
       "75%                         10.000000                        0.000000   \n",
       "max                       1490.000000                     1148.000000   \n",
       "\n",
       "       arrival_delay_category_nas  arrival_delay_category_security  \\\n",
       "count               568356.000000                    568356.000000   \n",
       "mean                     9.446947                         0.065980   \n",
       "std                     27.782767                         1.542014   \n",
       "min                      0.000000                         0.000000   \n",
       "25%                      0.000000                         0.000000   \n",
       "50%                      0.000000                         0.000000   \n",
       "75%                      6.000000                         0.000000   \n",
       "max                   1357.000000                       149.000000   \n",
       "\n",
       "       arrival_delay_category_aircraft  \n",
       "count                    568356.000000  \n",
       "mean                         17.247019  \n",
       "std                          36.286294  \n",
       "min                           0.000000  \n",
       "25%                           0.000000  \n",
       "50%                           0.000000  \n",
       "75%                          20.000000  \n",
       "max                        1254.000000  "
      ]
     },
     "execution_count": 16,
     "metadata": {},
     "output_type": "execute_result"
    }
   ],
   "source": [
    "flights.describe()"
   ]
  },
  {
   "attachments": {},
   "cell_type": "markdown",
   "metadata": {},
   "source": [
    "What is the average delay? How does that compare to our competition?\n",
    "What % of delays were within our control? Is that consistent across the industry?\n",
    "How much time are we typically making up during a flight?\n",
    "What are the costs of these delays?  (This requires outside research.)"
   ]
  },
  {
   "attachments": {},
   "cell_type": "markdown",
   "metadata": {},
   "source": [
    "What % of our flights arrived late?  (i.e. 15 minutes or more.)"
   ]
  },
  {
   "cell_type": "code",
   "execution_count": 21,
   "metadata": {},
   "outputs": [],
   "source": [
    "# Calculate the amount of record with airline = 'Southwest' and arrival_delay > 15\n",
    "southwest_delays = flights[(flights['airline_name'] == 'Southwest Airlines Co.') & (flights['arrival_delay'] >= 15)]\n",
    "total_southwest_delays = southwest_delays.shape[0]"
   ]
  },
  {
   "cell_type": "code",
   "execution_count": 22,
   "metadata": {},
   "outputs": [],
   "source": [
    "# Calculate the total flights with airline = 'Southwest'\n",
    "total_southwest_flights = flights[flights['airline_name'] == 'Southwest Airlines Co.'].shape[0]"
   ]
  },
  {
   "cell_type": "code",
   "execution_count": 23,
   "metadata": {},
   "outputs": [
    {
     "name": "stdout",
     "output_type": "stream",
     "text": [
      "0.5716615502686109\n"
     ]
    }
   ],
   "source": [
    "# Calculate the percentage of flights with Southwest that had a delay > 15\n",
    "southwest_delay_percentage = total_southwest_delays / total_southwest_flights\n",
    "print(southwest_delay_percentage)"
   ]
  },
  {
   "cell_type": "code",
   "execution_count": 26,
   "metadata": {},
   "outputs": [
    {
     "data": {
      "image/png": "[encoded data removed]",
      "text/plain": [
       "<Figure size 432x288 with 1 Axes>"
      ]
     },
     "metadata": {},
     "output_type": "display_data"
    }
   ],
   "source": [
    "# Present the percentage as a pie chart\n",
    "import matplotlib.pyplot as plt\n",
    "%matplotlib inline\n",
    "\n",
    "labels = 'Delayed', 'On-Time'\n",
    "sizes = [southwest_delay_percentage, 1 - southwest_delay_percentage]\n",
    "explode = (0.1, 0)  # only \"explode\" the 1st slice (i.e. 'Southwest')\n",
    "\n",
    "fig1, ax1 = plt.subplots()\n",
    "ax1.pie(sizes, explode=explode, labels=labels, autopct='%1.1f%%',\n",
    "        shadow=True, startangle=90)\n",
    "ax1.axis('equal')  # Equal aspect ratio ensures that pie is drawn as a circle.\n",
    "\n",
    "plt.show();"
   ]
  },
  {
   "attachments": {},
   "cell_type": "markdown",
   "metadata": {},
   "source": [
    "What is the average delay? How does that compare to our competition?"
   ]
  },
  {
   "cell_type": "code",
   "execution_count": 31,
   "metadata": {},
   "outputs": [
    {
     "data": {
      "text/plain": [
       "airline_name\n",
       "AirTran Airways Corporation     44.146928\n",
       "Alaska Airlines Inc.            37.594347\n",
       "Aloha Airlines Inc.             21.085333\n",
       "American Airlines Inc.          47.744316\n",
       "Continental Air Lines Inc.      40.791774\n",
       "Delta Air Lines Inc.            38.139690\n",
       "Endeavor Air Inc.               50.443046\n",
       "Envoy Air                       49.315837\n",
       "ExpressJet Airlines Inc.        43.781863\n",
       "ExpressJet Airlines Inc. (1)    49.502950\n",
       "Frontier Airlines Inc.          26.323937\n",
       "Hawaiian Airlines Inc.          32.245198\n",
       "JetBlue Airways                 51.015374\n",
       "Mesa Airlines Inc.              61.709455\n",
       "Northwest Airlines Inc.         44.585155\n",
       "PSA Airlines Inc.               46.515557\n",
       "SkyWest Airlines Inc.           51.245069\n",
       "Southwest Airlines Co.          31.172766\n",
       "US Airways Inc.                 32.837107\n",
       "United Air Lines Inc.           49.919762\n",
       "Name: arrival_delay, dtype: float64"
      ]
     },
     "execution_count": 31,
     "metadata": {},
     "output_type": "execute_result"
    }
   ],
   "source": [
    "# Calculate the average arrival_delay for each airline_name\n",
    "airline_arrival_delays = flights.groupby('airline_name')['arrival_delay'].mean()\n",
    "airline_arrival_delays"
   ]
  },
  {
   "cell_type": "code",
   "execution_count": 32,
   "metadata": {},
   "outputs": [
    {
     "data": {
      "image/png": "[encoded data removed]",
      "text/plain": [
       "<Figure size 720x432 with 1 Axes>"
      ]
     },
     "metadata": {
      "needs_background": "light"
     },
     "output_type": "display_data"
    }
   ],
   "source": [
    "# Compare in Bar Chart\n",
    "airline_arrival_delays.plot(kind='bar', figsize=(10, 6))\n",
    "\n",
    "plt.xlabel('Airline') # add to x-label to the plot\n",
    "plt.ylabel('Average Arrival Delay') # add y-label to the plot\n",
    "plt.title('Average Arrival Delay for Each Airline') # add title to the plot\n",
    "\n",
    "plt.show();"
   ]
  },
  {
   "cell_type": "code",
   "execution_count": 34,
   "metadata": {},
   "outputs": [
    {
     "data": {
      "text/plain": [
       "airline_name\n",
       "AirTran Airways Corporation     42.096401\n",
       "Alaska Airlines Inc.            40.184396\n",
       "Aloha Airlines Inc.             26.680000\n",
       "American Airlines Inc.          47.637400\n",
       "Continental Air Lines Inc.      42.930965\n",
       "Delta Air Lines Inc.            38.001586\n",
       "Endeavor Air Inc.               50.594361\n",
       "Envoy Air                       46.799949\n",
       "ExpressJet Airlines Inc.        46.068158\n",
       "ExpressJet Airlines Inc. (1)    49.673967\n",
       "Frontier Airlines Inc.          26.170364\n",
       "Hawaiian Airlines Inc.          33.693785\n",
       "JetBlue Airways                 52.265839\n",
       "Mesa Airlines Inc.              61.596987\n",
       "Northwest Airlines Inc.         40.128254\n",
       "PSA Airlines Inc.               45.073040\n",
       "SkyWest Airlines Inc.           48.993667\n",
       "Southwest Airlines Co.          35.139669\n",
       "US Airways Inc.                 37.095114\n",
       "United Air Lines Inc.           51.377346\n",
       "Name: departure_delay, dtype: float64"
      ]
     },
     "execution_count": 34,
     "metadata": {},
     "output_type": "execute_result"
    }
   ],
   "source": [
    "# Calculate the average departure_delay for each airline_name\n",
    "airline_departure_delays = flights.groupby('airline_name')['departure_delay'].mean()\n",
    "airline_departure_delays"
   ]
  },
  {
   "cell_type": "code",
   "execution_count": 35,
   "metadata": {},
   "outputs": [
    {
     "data": {
      "image/png": "[encoded data removed]",
      "text/plain": [
       "<Figure size 720x432 with 1 Axes>"
      ]
     },
     "metadata": {
      "needs_background": "light"
     },
     "output_type": "display_data"
    }
   ],
   "source": [
    "# Compare in Bar Chart\n",
    "airline_departure_delays.plot(kind='bar', figsize=(10, 6))\n",
    "\n",
    "plt.xlabel('Airline') # add to x-label to the plot\n",
    "plt.ylabel('Average Departure Delay') # add y-label to the plot\n",
    "plt.title('Average Departure Delay for Each Airline') # add title to the plot\n",
    "\n",
    "plt.show();"
   ]
  },
  {
   "attachments": {},
   "cell_type": "markdown",
   "metadata": {},
   "source": [
    "What % of delays were within our control? Is that consistent across the industry?"
   ]
  },
  {
   "cell_type": "code",
   "execution_count": 53,
   "metadata": {},
   "outputs": [],
   "source": [
    "# Calculate the percentage of records with arrival_delay_caused_by_carrie > 0 for each airline_name, when arrival_delay > 15\n",
    "\n",
    "# Generate a dummy variable for arrival_delay_caused_by_carrie\n",
    "flights['arrival_delay_caused_by_carrier_dummy'] = np.where(flights['arrival_delay_caused_by_carrier'] > 0, 1, 0)"
   ]
  },
  {
   "cell_type": "code",
   "execution_count": 54,
   "metadata": {},
   "outputs": [
    {
     "data": {
      "text/plain": [
       "airline_name\n",
       "AirTran Airways Corporation     0.911380\n",
       "Alaska Airlines Inc.            0.907661\n",
       "Aloha Airlines Inc.             0.950156\n",
       "American Airlines Inc.          0.882914\n",
       "Continental Air Lines Inc.      0.726215\n",
       "Delta Air Lines Inc.            0.897268\n",
       "Endeavor Air Inc.               0.918003\n",
       "Envoy Air                       0.915078\n",
       "ExpressJet Airlines Inc.        0.801712\n",
       "ExpressJet Airlines Inc. (1)    0.820459\n",
       "Frontier Airlines Inc.          0.974661\n",
       "Hawaiian Airlines Inc.          1.000000\n",
       "JetBlue Airways                 0.903813\n",
       "Mesa Airlines Inc.              0.823415\n",
       "Northwest Airlines Inc.         0.909147\n",
       "PSA Airlines Inc.               0.624631\n",
       "SkyWest Airlines Inc.           0.797142\n",
       "Southwest Airlines Co.          0.963571\n",
       "US Airways Inc.                 0.901585\n",
       "United Air Lines Inc.           0.887757\n",
       "Name: arrival_delay_caused_by_carrier_dummy, dtype: float64"
      ]
     },
     "execution_count": 54,
     "metadata": {},
     "output_type": "execute_result"
    }
   ],
   "source": [
    "# Calculate the percentage of records with arrival_delay_caused_by_carrier_dummy = 1 for each airline_name, when arrival_delay > 15\n",
    "airline_arrival_delays_caused_by_carrier = flights[flights['arrival_delay'] > 15].groupby('airline_name')['arrival_delay_caused_by_carrier_dummy'].mean()\n",
    "airline_arrival_delays_caused_by_carrier"
   ]
  },
  {
   "cell_type": "code",
   "execution_count": 55,
   "metadata": {},
   "outputs": [
    {
     "data": {
      "image/png": "[encoded data removed]",
      "text/plain": [
       "<Figure size 720x432 with 1 Axes>"
      ]
     },
     "metadata": {
      "needs_background": "light"
     },
     "output_type": "display_data"
    }
   ],
   "source": [
    "# Compare in Bar Chart\n",
    "airline_arrival_delays_caused_by_carrier.plot(kind='bar', figsize=(10, 6))\n",
    "\n",
    "plt.xlabel('Airline') # add to x-label to the plot\n",
    "plt.ylabel('Percentage of Arrival Delays Caused by Carrier') # add y-label to the plot\n",
    "plt.title('Percentage of Arrival Delays Caused by Carrier for Each Airline') # add title to the plot\n",
    "\n",
    "plt.show();"
   ]
  }
 ],
 "metadata": {
  "kernelspec": {
   "display_name": "base",
   "language": "python",
   "name": "python3"
  },
  "language_info": {
   "codemirror_mode": {
    "name": "ipython",
    "version": 3
   },
   "file_extension": ".py",
   "mimetype": "text/x-python",
   "name": "python",
   "nbconvert_exporter": "python",
   "pygments_lexer": "ipython3",
   "version": "3.9.12"
  },
  "orig_nbformat": 4,
  "vscode": {
   "interpreter": {
    "hash": "ad2bdc8ecc057115af97d19610ffacc2b4e99fae6737bb82f5d7fb13d2f2c186"
   }
  }
 },
 "nbformat": 4,
 "nbformat_minor": 2
}
